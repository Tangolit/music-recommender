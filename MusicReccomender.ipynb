{
 "cells": [
  {
   "cell_type": "code",
   "execution_count": 1125,
   "id": "4c4764e7-2c5f-4c95-b0f8-61af91636a02",
   "metadata": {},
   "outputs": [
    {
     "name": "stdout",
     "output_type": "stream",
     "text": [
      "Model Uploaded\n"
     ]
    },
    {
     "name": "stdin",
     "output_type": "stream",
     "text": [
      "What age are you?  22\n",
      "Are you F(0) or M(1)?  0\n"
     ]
    },
    {
     "name": "stdout",
     "output_type": "stream",
     "text": [
      "The model predicts Dance.\n"
     ]
    }
   ],
   "source": [
    "import pandas as pd\n",
    "import random as rd\n",
    "from sklearn.tree import DecisionTreeClassifier\n",
    "from sklearn.model_selection import train_test_split\n",
    "from sklearn.metrics import accuracy_score\n",
    "import joblib\n",
    "\n",
    "music_data = pd.read_csv(\"music.csv\")\n",
    "X = music_data.drop(columns = [\"genre\"])\n",
    "Y = music_data[\"genre\"]\n",
    "X_train, X_test, Y_train, Y_test = train_test_split(X, Y, test_size = 0.2)\n",
    "\n",
    "model = DecisionTreeClassifier()\n",
    "model.fit(X_train,Y_train)\n",
    "predictions = model.predict(X_test)\n",
    "score = accuracy_score(Y_test, predictions)\n",
    "if (score == 1):\n",
    "    joblib.dump(model, \"music_recommender.joblib\")\n",
    "    print(\"Model Uploaded\")\n",
    "    age = int(input(\"What age are you? \"))\n",
    "    gender = int(input(\"Are you F(0) or M(1)? \"))\n",
    "    if((20<=age<=40) and (gender in [0,1])):\n",
    "        predictions2 = model.predict(pd.DataFrame([[age,gender]], columns = X.columns))\n",
    "        predicted_music = predictions2[0]\n",
    "        print(f\"The model predicts {predicted_music}.\")\n",
    "    else:\n",
    "        print(\"Age/Gender out of range.\")\n",
    "else:\n",
    "    print(\"The model is not accurate enough right now, try again\")"
   ]
  },
  {
   "cell_type": "code",
   "execution_count": null,
   "id": "d9466c21-30f5-493e-ba51-803793e8b918",
   "metadata": {},
   "outputs": [],
   "source": []
  }
 ],
 "metadata": {
  "kernelspec": {
   "display_name": "Python 3 (ipykernel)",
   "language": "python",
   "name": "python3"
  },
  "language_info": {
   "codemirror_mode": {
    "name": "ipython",
    "version": 3
   },
   "file_extension": ".py",
   "mimetype": "text/x-python",
   "name": "python",
   "nbconvert_exporter": "python",
   "pygments_lexer": "ipython3",
   "version": "3.12.4"
  }
 },
 "nbformat": 4,
 "nbformat_minor": 5
}
